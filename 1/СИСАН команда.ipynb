{
 "cells": [
  {
   "cell_type": "code",
   "execution_count": 1,
   "metadata": {},
   "outputs": [],
   "source": [
    "import numpy as np\n",
    "import os as os\n",
    "n=5"
   ]
  },
  {
   "cell_type": "code",
   "execution_count": 2,
   "metadata": {},
   "outputs": [
    {
     "data": {
      "text/plain": [
       "array([0.3 , 0.5 , 0.7 , 0.82, 0.9 ])"
      ]
     },
     "execution_count": 2,
     "metadata": {},
     "output_type": "execute_result"
    }
   ],
   "source": [
    "perm = np.full(n,[0.3,0.5,0.7,0.82,0.9])\n",
    "perm"
   ]
  },
  {
   "cell_type": "markdown",
   "metadata": {},
   "source": [
    "### There I can change m on any (8;10;12;14;16;18;20) "
   ]
  },
  {
   "cell_type": "code",
   "execution_count": 60,
   "metadata": {},
   "outputs": [],
   "source": [
    "m=8"
   ]
  },
  {
   "cell_type": "code",
   "execution_count": 64,
   "metadata": {},
   "outputs": [
    {
     "data": {
      "text/plain": [
       "array([[0.95731039, 0.22676013, 0.46847241, 0.07953579, 0.77282309],\n",
       "       [0.37836817, 0.91571027, 0.76680409, 0.75272739, 0.81962017],\n",
       "       [0.57443268, 0.86998618, 0.41466603, 0.23436803, 0.97649169],\n",
       "       [0.36601223, 0.7681511 , 0.21955945, 0.94446903, 0.07702601],\n",
       "       [0.83436023, 0.95238209, 0.77954177, 0.11508204, 0.91813121],\n",
       "       [0.37129848, 0.20935444, 0.7028494 , 0.91686138, 0.84492688],\n",
       "       [0.95871774, 0.30104162, 0.63200501, 0.27049801, 0.51045943],\n",
       "       [0.63358911, 0.46676665, 0.82119408, 0.45176048, 0.56684832]])"
      ]
     },
     "execution_count": 64,
     "metadata": {},
     "output_type": "execute_result"
    }
   ],
   "source": [
    "A = np.random.random((m,n))\n",
    "A"
   ]
  },
  {
   "cell_type": "code",
   "execution_count": 63,
   "metadata": {},
   "outputs": [],
   "source": [
    "Bt = A@perm"
   ]
  },
  {
   "cell_type": "code",
   "execution_count": 46,
   "metadata": {},
   "outputs": [
    {
     "data": {
      "text/plain": [
       "array([1.35795373, 1.93909588, 1.13979861, 2.32652447, 1.21697888,\n",
       "       1.55028088, 1.9680705 , 1.80055197, 1.27892876, 1.5152306 ,\n",
       "       2.31701468, 1.25252076, 1.31324564, 1.16813176, 1.88298018,\n",
       "       0.63071959, 1.23331197, 1.1984654 , 1.50766679, 0.42606279])"
      ]
     },
     "execution_count": 46,
     "metadata": {},
     "output_type": "execute_result"
    }
   ],
   "source": [
    "Bt"
   ]
  },
  {
   "cell_type": "code",
   "execution_count": 47,
   "metadata": {},
   "outputs": [],
   "source": [
    "def E(name_method: str, modul: float)-> float:\n",
    "    if name_method == 'normal':\n",
    "        ep = np.random.normal(0,(modul/1.5))\n",
    "        if abs(ep)>modul:\n",
    "            ep =ep*modul/abs(ep)\n",
    "        return ep\n",
    "    if name_method == 'rivnomir':\n",
    "        ep = np.random.uniform(-modul,modul)\n",
    "        return ep\n",
    "    return 0"
   ]
  },
  {
   "cell_type": "markdown",
   "metadata": {},
   "source": [
    "###  You can put hear anything: modul>0 name_method={'normal','rivnomir'}"
   ]
  },
  {
   "cell_type": "code",
   "execution_count": 48,
   "metadata": {},
   "outputs": [
    {
     "data": {
      "text/plain": [
       "array([-0.03258661, -0.03258661, -0.03258661, -0.03258661, -0.03258661,\n",
       "       -0.03258661, -0.03258661, -0.03258661, -0.03258661, -0.03258661,\n",
       "       -0.03258661, -0.03258661, -0.03258661, -0.03258661, -0.03258661,\n",
       "       -0.03258661, -0.03258661, -0.03258661, -0.03258661, -0.03258661])"
      ]
     },
     "execution_count": 48,
     "metadata": {},
     "output_type": "execute_result"
    }
   ],
   "source": [
    "Eps = np.full(m,[E('normal',0.05)])\n",
    "Eps"
   ]
  },
  {
   "cell_type": "code",
   "execution_count": 49,
   "metadata": {},
   "outputs": [
    {
     "data": {
      "text/plain": [
       "array([1.32536713, 1.90650928, 1.10721201, 2.29393786, 1.18439228,\n",
       "       1.51769427, 1.93548389, 1.76796536, 1.24634215, 1.482644  ,\n",
       "       2.28442807, 1.21993416, 1.28065903, 1.13554516, 1.85039357,\n",
       "       0.59813298, 1.20072537, 1.16587879, 1.47508019, 0.39347618])"
      ]
     },
     "execution_count": 49,
     "metadata": {},
     "output_type": "execute_result"
    }
   ],
   "source": [
    "B = Bt+Eps\n",
    "B"
   ]
  },
  {
   "cell_type": "code",
   "execution_count": 50,
   "metadata": {},
   "outputs": [],
   "source": [
    "def MNK(A: np.array,b: np.array)->np.array:\n",
    "    x=np.linalg.inv(A.T@A)@A.T@b\n",
    "    return x"
   ]
  },
  {
   "cell_type": "code",
   "execution_count": 51,
   "metadata": {},
   "outputs": [],
   "source": [
    "def SVDm(A: np.array, b: np.array)->np.array:\n",
    "    u, s, v = np.linalg.svd(A, full_matrices=True)\n",
    "    s=1/s\n",
    "    s=np.c_[s*np.eye(n),np.zeros((n,m-n))]\n",
    "    return v.T@s@u.T@b"
   ]
  },
  {
   "cell_type": "code",
   "execution_count": 52,
   "metadata": {},
   "outputs": [],
   "source": [
    "resolution = MNK(A,B)"
   ]
  },
  {
   "cell_type": "code",
   "execution_count": 53,
   "metadata": {},
   "outputs": [
    {
     "data": {
      "text/plain": [
       "array([0.28043307, 0.49013688, 0.68811948, 0.80391645, 0.89133776])"
      ]
     },
     "execution_count": 53,
     "metadata": {},
     "output_type": "execute_result"
    }
   ],
   "source": [
    "resolution"
   ]
  },
  {
   "cell_type": "code",
   "execution_count": 54,
   "metadata": {},
   "outputs": [],
   "source": [
    "delta = abs((resolution-perm)/perm)"
   ]
  },
  {
   "cell_type": "code",
   "execution_count": 55,
   "metadata": {},
   "outputs": [
    {
     "data": {
      "text/plain": [
       "array([0.0652231 , 0.01972624, 0.01697217, 0.01961409, 0.00962471])"
      ]
     },
     "execution_count": 55,
     "metadata": {},
     "output_type": "execute_result"
    }
   ],
   "source": [
    "delta"
   ]
  },
  {
   "cell_type": "code",
   "execution_count": 56,
   "metadata": {},
   "outputs": [],
   "source": [
    "x=SVDm(A,B)"
   ]
  },
  {
   "cell_type": "code",
   "execution_count": 57,
   "metadata": {},
   "outputs": [
    {
     "data": {
      "text/plain": [
       "array([0.28043307, 0.49013688, 0.68811948, 0.80391645, 0.89133776])"
      ]
     },
     "execution_count": 57,
     "metadata": {},
     "output_type": "execute_result"
    }
   ],
   "source": [
    "x"
   ]
  },
  {
   "cell_type": "code",
   "execution_count": 58,
   "metadata": {},
   "outputs": [],
   "source": [
    "delta = abs((x-perm)/perm)"
   ]
  },
  {
   "cell_type": "code",
   "execution_count": 59,
   "metadata": {},
   "outputs": [
    {
     "data": {
      "text/plain": [
       "array([0.0652231 , 0.01972624, 0.01697217, 0.01961409, 0.00962471])"
      ]
     },
     "execution_count": 59,
     "metadata": {},
     "output_type": "execute_result"
    }
   ],
   "source": [
    "delta"
   ]
  },
  {
   "cell_type": "code",
   "execution_count": null,
   "metadata": {},
   "outputs": [],
   "source": []
  },
  {
   "cell_type": "code",
   "execution_count": null,
   "metadata": {},
   "outputs": [],
   "source": []
  }
 ],
 "metadata": {
  "kernelspec": {
   "display_name": "Python 3",
   "language": "python",
   "name": "python3"
  },
  "language_info": {
   "codemirror_mode": {
    "name": "ipython",
    "version": 3
   },
   "file_extension": ".py",
   "mimetype": "text/x-python",
   "name": "python",
   "nbconvert_exporter": "python",
   "pygments_lexer": "ipython3",
   "version": "3.6.5"
  }
 },
 "nbformat": 4,
 "nbformat_minor": 2
}
