{
 "cells": [
  {
   "cell_type": "code",
   "execution_count": 42,
   "metadata": {},
   "outputs": [],
   "source": [
    "import numpy as np\n",
    "import time as t\n",
    "n=5"
   ]
  },
  {
   "cell_type": "code",
   "execution_count": 43,
   "metadata": {},
   "outputs": [
    {
     "data": {
      "text/plain": [
       "array([0.3 , 0.5 , 0.7 , 0.82, 0.9 ])"
      ]
     },
     "execution_count": 43,
     "metadata": {},
     "output_type": "execute_result"
    }
   ],
   "source": [
    "perm = np.full(n,[0.3,0.5,0.7,0.82,0.9])\n",
    "perm"
   ]
  },
  {
   "cell_type": "markdown",
   "metadata": {},
   "source": [
    "### There I can change m on any (8;10;12;14;16;18;20) "
   ]
  },
  {
   "cell_type": "code",
   "execution_count": 68,
   "metadata": {},
   "outputs": [],
   "source": [
    "def laba(min_m,max_m,xt):\n",
    "    A = np.random.uniform(size=(min_m,n),low=0,high=4)\n",
    "    return A,A"
   ]
  },
  {
   "cell_type": "code",
   "execution_count": 73,
   "metadata": {},
   "outputs": [
    {
     "data": {
      "text/plain": [
       "(array([[2.46974592, 2.74360891, 3.32234995, 3.2774141 , 0.07005363],\n",
       "        [3.90588341, 3.9260829 , 3.35207347, 2.99964884, 2.71806483],\n",
       "        [1.87836624, 1.77554952, 2.94109208, 3.81436518, 1.67353733],\n",
       "        [1.48047945, 2.94290267, 1.99483615, 1.55415356, 0.84807593],\n",
       "        [1.62068525, 2.71630268, 3.93829806, 3.76491941, 1.17501772],\n",
       "        [0.27308042, 0.51349309, 0.33245925, 3.28421105, 1.66021661],\n",
       "        [0.47307073, 2.31083842, 0.84733379, 2.96345273, 2.93465517],\n",
       "        [0.23375983, 3.66533674, 3.68214161, 2.38060695, 2.4476821 ],\n",
       "        [2.40116784, 1.82412047, 1.5302307 , 3.19325151, 1.27604261]]),\n",
       " array([[2.46974592, 2.74360891, 3.32234995, 3.2774141 , 0.07005363],\n",
       "        [3.90588341, 3.9260829 , 3.35207347, 2.99964884, 2.71806483],\n",
       "        [1.87836624, 1.77554952, 2.94109208, 3.81436518, 1.67353733],\n",
       "        [1.48047945, 2.94290267, 1.99483615, 1.55415356, 0.84807593],\n",
       "        [1.62068525, 2.71630268, 3.93829806, 3.76491941, 1.17501772],\n",
       "        [0.27308042, 0.51349309, 0.33245925, 3.28421105, 1.66021661],\n",
       "        [0.47307073, 2.31083842, 0.84733379, 2.96345273, 2.93465517],\n",
       "        [0.23375983, 3.66533674, 3.68214161, 2.38060695, 2.4476821 ],\n",
       "        [2.40116784, 1.82412047, 1.5302307 , 3.19325151, 1.27604261]]))"
      ]
     },
     "execution_count": 73,
     "metadata": {},
     "output_type": "execute_result"
    }
   ],
   "source": [
    "rr= laba(9,10,10)\n",
    "rr"
   ]
  },
  {
   "cell_type": "code",
   "execution_count": 44,
   "metadata": {},
   "outputs": [],
   "source": [
    "m=9"
   ]
  },
  {
   "cell_type": "code",
   "execution_count": 45,
   "metadata": {},
   "outputs": [
    {
     "data": {
      "text/plain": [
       "array([[3.84509807, 2.32992079, 3.44037654, 2.03092403, 0.08842478],\n",
       "       [2.42797687, 2.75905461, 3.80953655, 1.62314133, 2.79481881],\n",
       "       [2.13294486, 2.00056106, 0.9798301 , 0.86661927, 3.76823653],\n",
       "       [1.22998709, 1.95289879, 1.21270056, 1.4576099 , 3.76804654],\n",
       "       [1.53780806, 1.09459643, 2.22206927, 2.75442715, 2.62562988],\n",
       "       [3.3204843 , 3.92829809, 0.85730266, 1.04583727, 0.25606946],\n",
       "       [1.51885539, 1.6783955 , 3.87731733, 3.91569811, 1.78555858],\n",
       "       [2.08501613, 1.42147734, 2.92661373, 1.5478384 , 0.76627218],\n",
       "       [3.51264955, 2.85172818, 0.63572656, 3.55487869, 2.86814774]])"
      ]
     },
     "execution_count": 45,
     "metadata": {},
     "output_type": "execute_result"
    }
   ],
   "source": [
    "A = np.random.uniform(size=(m,n),low=0,high=4)\n",
    "A"
   ]
  },
  {
   "cell_type": "code",
   "execution_count": 46,
   "metadata": {},
   "outputs": [],
   "source": [
    "Bt = A@perm"
   ]
  },
  {
   "cell_type": "code",
   "execution_count": 47,
   "metadata": {},
   "outputs": [
    {
     "data": {
      "text/plain": [
       "array([6.4716934 , 8.62090877, 6.42808573, 6.78081792, 7.18578627,\n",
       "       4.64845527, 8.82685167, 5.34374557, 8.42100104])"
      ]
     },
     "execution_count": 47,
     "metadata": {},
     "output_type": "execute_result"
    }
   ],
   "source": [
    "Bt"
   ]
  },
  {
   "cell_type": "code",
   "execution_count": 48,
   "metadata": {},
   "outputs": [],
   "source": [
    "def E(name_method: str, modul: float)-> float: \n",
    "    if name_method == 'normal':\n",
    "        ep = np.random.normal(0,(modul/1.5))\n",
    "        if abs(ep)>modul:\n",
    "            ep =ep*modul/abs(ep)\n",
    "        return ep\n",
    "    if name_method == 'rivnomir':\n",
    "        ep = np.random.uniform(-modul,modul)\n",
    "        return ep\n",
    "    if name_method == 'blender':\n",
    "        ep = E('normal',modul)\n",
    "        ep=(modul-ep)*ep/abs(ep)\n",
    "        return ep\n",
    "    return 0"
   ]
  },
  {
   "cell_type": "markdown",
   "metadata": {},
   "source": [
    "###  You can put hear anything: modul>0 name_method={'normal','rivnomir'}"
   ]
  },
  {
   "cell_type": "code",
   "execution_count": 52,
   "metadata": {},
   "outputs": [
    {
     "data": {
      "text/plain": [
       "array([ 0.01367618, -0.035     , -0.03493674,  0.00861343,  0.02393208,\n",
       "        0.03003801,  0.00779284, -0.0024429 , -0.03223881])"
      ]
     },
     "execution_count": 52,
     "metadata": {},
     "output_type": "execute_result"
    }
   ],
   "source": [
    "Eps = [E('normal',0.035) for i in range(m)]\n",
    "Eps = np.full(m,Eps)\n",
    "Eps"
   ]
  },
  {
   "cell_type": "code",
   "execution_count": 53,
   "metadata": {},
   "outputs": [
    {
     "data": {
      "text/plain": [
       "array([6.48536958, 8.58590877, 6.39314899, 6.78943135, 7.20971835,\n",
       "       4.67849328, 8.83464451, 5.34130267, 8.38876223])"
      ]
     },
     "execution_count": 53,
     "metadata": {},
     "output_type": "execute_result"
    }
   ],
   "source": [
    "B = Bt+Eps\n",
    "B"
   ]
  },
  {
   "cell_type": "code",
   "execution_count": 54,
   "metadata": {},
   "outputs": [],
   "source": [
    "def MNK(A: np.array,b: np.array)->np.array:\n",
    "    x=np.linalg.inv(A.T@A)@A.T@b\n",
    "    return x"
   ]
  },
  {
   "cell_type": "code",
   "execution_count": 55,
   "metadata": {},
   "outputs": [],
   "source": [
    "def SVDm(A: np.array, b: np.array)->np.array:\n",
    "    u, s, v = np.linalg.svd(A, full_matrices=True)\n",
    "    s=1/s\n",
    "    s=np.c_[s*np.eye(n),np.zeros((n,m-n))]\n",
    "    return v.T@s@u.T@b"
   ]
  },
  {
   "cell_type": "code",
   "execution_count": 56,
   "metadata": {},
   "outputs": [],
   "source": [
    "resolution = MNK(A,B)"
   ]
  },
  {
   "cell_type": "code",
   "execution_count": 57,
   "metadata": {},
   "outputs": [
    {
     "data": {
      "text/plain": [
       "array([0.28909366, 0.51177072, 0.70069166, 0.82673469, 0.89042667])"
      ]
     },
     "execution_count": 57,
     "metadata": {},
     "output_type": "execute_result"
    }
   ],
   "source": [
    "resolution"
   ]
  },
  {
   "cell_type": "code",
   "execution_count": 58,
   "metadata": {},
   "outputs": [],
   "source": [
    "delta = abs((resolution-perm)/perm)"
   ]
  },
  {
   "cell_type": "code",
   "execution_count": 59,
   "metadata": {},
   "outputs": [
    {
     "data": {
      "text/plain": [
       "array([0.03635448, 0.02354144, 0.00098808, 0.00821304, 0.01063703])"
      ]
     },
     "execution_count": 59,
     "metadata": {},
     "output_type": "execute_result"
    }
   ],
   "source": [
    "delta"
   ]
  },
  {
   "cell_type": "code",
   "execution_count": 60,
   "metadata": {},
   "outputs": [],
   "source": [
    "x=SVDm(A,B)"
   ]
  },
  {
   "cell_type": "code",
   "execution_count": 61,
   "metadata": {},
   "outputs": [
    {
     "data": {
      "text/plain": [
       "array([0.28909366, 0.51177072, 0.70069166, 0.82673469, 0.89042667])"
      ]
     },
     "execution_count": 61,
     "metadata": {},
     "output_type": "execute_result"
    }
   ],
   "source": [
    "x"
   ]
  },
  {
   "cell_type": "code",
   "execution_count": 62,
   "metadata": {},
   "outputs": [],
   "source": [
    "delta = abs((x-perm)/perm)"
   ]
  },
  {
   "cell_type": "code",
   "execution_count": 63,
   "metadata": {},
   "outputs": [
    {
     "data": {
      "text/plain": [
       "array([0.03635448, 0.02354144, 0.00098808, 0.00821304, 0.01063703])"
      ]
     },
     "execution_count": 63,
     "metadata": {},
     "output_type": "execute_result"
    }
   ],
   "source": [
    "delta"
   ]
  },
  {
   "cell_type": "code",
   "execution_count": null,
   "metadata": {},
   "outputs": [],
   "source": []
  },
  {
   "cell_type": "code",
   "execution_count": null,
   "metadata": {},
   "outputs": [],
   "source": []
  }
 ],
 "metadata": {
  "kernelspec": {
   "display_name": "Python 3",
   "language": "python",
   "name": "python3"
  },
  "language_info": {
   "codemirror_mode": {
    "name": "ipython",
    "version": 3
   },
   "file_extension": ".py",
   "mimetype": "text/x-python",
   "name": "python",
   "nbconvert_exporter": "python",
   "pygments_lexer": "ipython3",
   "version": "3.6.5"
  }
 },
 "nbformat": 4,
 "nbformat_minor": 2
}
