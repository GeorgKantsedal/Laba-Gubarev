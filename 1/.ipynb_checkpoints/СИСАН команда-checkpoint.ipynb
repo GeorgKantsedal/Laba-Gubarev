{
 "cells": [
  {
   "cell_type": "code",
   "execution_count": 2,
   "metadata": {},
   "outputs": [],
   "source": [
    "import numpy as np\n",
    "import os as os\n",
    "n=5"
   ]
  },
  {
   "cell_type": "code",
   "execution_count": 15,
   "metadata": {},
   "outputs": [
    {
     "data": {
      "text/plain": [
       "array([0.3 , 0.5 , 0.7 , 0.82, 0.9 ])"
      ]
     },
     "execution_count": 15,
     "metadata": {},
     "output_type": "execute_result"
    }
   ],
   "source": [
    "perm = np.full(n,[0.3,0.5,0.7,0.82,0.9])\n",
    "perm"
   ]
  },
  {
   "cell_type": "markdown",
   "metadata": {},
   "source": [
    "### There I can change m on any (8;10;12;14;16;18;20) "
   ]
  },
  {
   "cell_type": "code",
   "execution_count": 6,
   "metadata": {},
   "outputs": [],
   "source": [
    "m=8"
   ]
  },
  {
   "cell_type": "code",
   "execution_count": 8,
   "metadata": {},
   "outputs": [
    {
     "data": {
      "text/plain": [
       "array([[0.22809367, 0.26609186, 0.71542688, 0.02552687, 0.81629211],\n",
       "       [0.70379092, 0.62855201, 0.54615817, 0.73413191, 0.35516598],\n",
       "       [0.29711761, 0.22741072, 0.16550922, 0.11984948, 0.28697439],\n",
       "       [0.6537955 , 0.42693057, 0.03587121, 0.57533657, 0.43475133],\n",
       "       [0.5398232 , 0.27900027, 0.73458434, 0.20056934, 0.68986008],\n",
       "       [0.45882075, 0.04535699, 0.0925679 , 0.36520709, 0.03654422],\n",
       "       [0.26897866, 0.73377413, 0.35491301, 0.86367961, 0.78566429],\n",
       "       [0.26883663, 0.78019133, 0.31409337, 0.28550021, 0.52229419]])"
      ]
     },
     "execution_count": 8,
     "metadata": {},
     "output_type": "execute_result"
    }
   ],
   "source": [
    "A = np.random.random((m,n))\n",
    "A"
   ]
  },
  {
   "cell_type": "code",
   "execution_count": 13,
   "metadata": {},
   "outputs": [],
   "source": [
    "Bt = A@perm"
   ]
  },
  {
   "cell_type": "code",
   "execution_count": 14,
   "metadata": {},
   "outputs": [
    {
     "data": {
      "text/plain": [
       "array([1.02571569, 1.48389949, 0.54843071, 1.06334259, 1.22191862,\n",
       "       0.49924848, 1.50350485, 1.08545786])"
      ]
     },
     "execution_count": 14,
     "metadata": {},
     "output_type": "execute_result"
    }
   ],
   "source": [
    "Bt"
   ]
  },
  {
   "cell_type": "code",
   "execution_count": 31,
   "metadata": {},
   "outputs": [],
   "source": [
    "def E(name_method: str, modul: float)-> float:\n",
    "    if name_method == 'normal':\n",
    "        ep = np.random.normal(0,(modul/1.5))\n",
    "        if abs(ep)>modul:\n",
    "            ep =ep*modul/abs(ep)\n",
    "        return ep\n",
    "    if name_method == 'rivnomir':\n",
    "        ep = np.random.uniform(-modul,modul)\n",
    "        return ep\n",
    "    return 0"
   ]
  },
  {
   "cell_type": "markdown",
   "metadata": {},
   "source": [
    "###  You can put hear anything: modul>0 name_method={'normal','rivnomir'}"
   ]
  },
  {
   "cell_type": "code",
   "execution_count": 59,
   "metadata": {},
   "outputs": [
    {
     "data": {
      "text/plain": [
       "array([0.05, 0.05, 0.05, 0.05, 0.05, 0.05, 0.05, 0.05])"
      ]
     },
     "execution_count": 59,
     "metadata": {},
     "output_type": "execute_result"
    }
   ],
   "source": [
    "Eps = np.full(m,[E('normal',0.05)])\n",
    "Eps"
   ]
  },
  {
   "cell_type": "code",
   "execution_count": 60,
   "metadata": {},
   "outputs": [
    {
     "data": {
      "text/plain": [
       "array([1.03623272, 1.49441652, 0.55894774, 1.07385963, 1.23243565,\n",
       "       0.50976551, 1.51402188, 1.09597489])"
      ]
     },
     "execution_count": 60,
     "metadata": {},
     "output_type": "execute_result"
    }
   ],
   "source": [
    "B = B+Eps\n",
    "B"
   ]
  },
  {
   "cell_type": "code",
   "execution_count": 61,
   "metadata": {},
   "outputs": [],
   "source": [
    "def MNK(A: np.array,b: np.array)->np.array:\n",
    "    x=np.linalg.inv(A.T@A)@A.T@b\n",
    "    return x"
   ]
  },
  {
   "cell_type": "code",
   "execution_count": 119,
   "metadata": {},
   "outputs": [],
   "source": [
    "def SVDm(A: np.array, b: np.array)->np.array:\n",
    "    u, s, v = np.linalg.svd(A, full_matrices=True)\n",
    "    s=1/s\n",
    "    s=np.c_[s*np.eye(n),np.zeros((n,m-n))]\n",
    "    return v.T@s@u.T@b"
   ]
  },
  {
   "cell_type": "code",
   "execution_count": 62,
   "metadata": {},
   "outputs": [],
   "source": [
    "resolution = MNK(A,B)"
   ]
  },
  {
   "cell_type": "code",
   "execution_count": 63,
   "metadata": {},
   "outputs": [
    {
     "data": {
      "text/plain": [
       "array([0.51503771, 0.50308387, 0.49683416, 0.49690668, 0.50935559])"
      ]
     },
     "execution_count": 63,
     "metadata": {},
     "output_type": "execute_result"
    }
   ],
   "source": [
    "resolution"
   ]
  },
  {
   "cell_type": "code",
   "execution_count": 64,
   "metadata": {},
   "outputs": [],
   "source": [
    "delta = abs((resolution-perm)/perm)"
   ]
  },
  {
   "cell_type": "code",
   "execution_count": 65,
   "metadata": {},
   "outputs": [
    {
     "data": {
      "text/plain": [
       "array([0.71679238, 0.00616775, 0.29023692, 0.39401625, 0.43404935])"
      ]
     },
     "execution_count": 65,
     "metadata": {},
     "output_type": "execute_result"
    }
   ],
   "source": [
    "delta"
   ]
  },
  {
   "cell_type": "code",
   "execution_count": 120,
   "metadata": {},
   "outputs": [],
   "source": [
    "x=SVDm(A,B)"
   ]
  },
  {
   "cell_type": "code",
   "execution_count": 121,
   "metadata": {},
   "outputs": [
    {
     "data": {
      "text/plain": [
       "array([0.51503771, 0.50308387, 0.49683416, 0.49690668, 0.50935559])"
      ]
     },
     "execution_count": 121,
     "metadata": {},
     "output_type": "execute_result"
    }
   ],
   "source": [
    "x"
   ]
  },
  {
   "cell_type": "code",
   "execution_count": 122,
   "metadata": {},
   "outputs": [
    {
     "data": {
      "text/plain": [
       "array([-5.55111512e-16, -6.66133815e-16, -2.55351296e-15,  8.88178420e-16,\n",
       "        1.33226763e-15])"
      ]
     },
     "execution_count": 122,
     "metadata": {},
     "output_type": "execute_result"
    }
   ],
   "source": [
    "resolution-x"
   ]
  },
  {
   "cell_type": "code",
   "execution_count": null,
   "metadata": {},
   "outputs": [],
   "source": []
  },
  {
   "cell_type": "code",
   "execution_count": null,
   "metadata": {},
   "outputs": [],
   "source": []
  },
  {
   "cell_type": "code",
   "execution_count": null,
   "metadata": {},
   "outputs": [],
   "source": []
  }
 ],
 "metadata": {
  "kernelspec": {
   "display_name": "Python 3",
   "language": "python",
   "name": "python3"
  },
  "language_info": {
   "codemirror_mode": {
    "name": "ipython",
    "version": 3
   },
   "file_extension": ".py",
   "mimetype": "text/x-python",
   "name": "python",
   "nbconvert_exporter": "python",
   "pygments_lexer": "ipython3",
   "version": "3.6.5"
  }
 },
 "nbformat": 4,
 "nbformat_minor": 2
}
